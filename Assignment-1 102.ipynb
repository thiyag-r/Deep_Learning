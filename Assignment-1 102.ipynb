{
 "cells": [
  {
   "cell_type": "code",
   "execution_count": 2,
   "metadata": {},
   "outputs": [
    {
     "name": "stdout",
     "output_type": "stream",
     "text": [
      "Page Exists: True\n"
     ]
    }
   ],
   "source": [
    "import wikipediaapi\n",
    "wiki = wikipediaapi.Wikipedia('en')\n",
    "page_setup = wiki.page('George W.Bush')\n",
    "print(\"Page Exists: %a\" % page_setup.exists())"
   ]
  },
  {
   "cell_type": "code",
   "execution_count": 4,
   "metadata": {},
   "outputs": [
    {
     "name": "stdout",
     "output_type": "stream",
     "text": [
      "Page - Summary: George Walker Bush (born July 6, 1946) is an American politician and businessman who served as the 43rd president of the United States from 2001 to 2009. He had previously served as the 46th governor of Texas from 1995 to 2000.\n",
      "Bush was born in New Haven, Connecticut, and grew up in Texas. After graduating from Yale University in 1968 and Harvard Business School in 1975, he worked in the oil industry. Bush married Laura Welch in 1977 and unsuccessfully ran for the U.S. House of Representatives shortly thereafter. He later co-owned the Texas Rangers baseball team before defeating Ann Richards in the 1994 Texas gubernatorial election. Bush was elected President of the United States in 2000 when he defeated Democratic incumbent Vice President Al Gore after a close and controversial win that involved a stopped recount in Florida. He became the fourth person to be elected president while receiving fewer popular votes than his opponent. Bush is a member of a prominent political family and is the eldest son of Barbara and George H. W. Bush, the 41st president of the United States. He is only the second president to assume the nation's highest office after his father, following the footsteps of John Adams and his son, John Quincy Adams. His brother Jeb Bush, a former Governor of Florida, was a candidate for the Republican presidential nomination in the 2016 presidential election. His paternal grandfather, Prescott Bush, was a U.S. Senator from Connecticut.\n",
      "The September 11 terrorist attacks occurred eight months into Bush's first term. Bush responded with what became known as the Bush Doctrine: launching a \"War on Terror\", an international military campaign that included the war in Afghanistan in 2001 and the Iraq War in 2003. He signed into law broad tax cuts, the Patriot Act, the No Child Left Behind Act, the Partial-Birth Abortion Ban Act, Medicare prescription drug benefits for seniors, and funding for the AIDS relief program known as PEPFAR. His tenure included national debates on immigration, Social Security, electronic surveillance, and torture. In the 2004 presidential race, Bush defeated Democratic Senator John Kerry in another relatively close election. After his re-election, Bush received increasingly heated criticism from across the political spectrum for his handling of the Iraq War, Hurricane Katrina, and other challenges. Amid this criticism, the Democratic Party regained control of Congress in the 2006 elections. In December 2007, the United States entered its longest post-World War II recession, often referred to as the \"Great Recession\", prompting the Bush administration to obtain congressional passage of multiple economic programs intended to preserve the country's financial system.\n",
      "Nationally, Bush was both one of the most popular and unpopular U.S. presidents in history, having received the highest recorded presidential approval ratings in the wake of the 9/11 attacks, as well as one of the lowest approval ratings during the 2008 financial crisis. Bush finished his term in office in 2009 and returned to Texas, where he had purchased a home in Dallas. In 2010, he published his memoir, Decision Points. His presidential library was opened in 2013. His presidency has been ranked among the worst in historians' polls that were published in the late 2000s and 2010s. However, his favorability ratings with the public have improved significantly after leaving office.\n"
     ]
    }
   ],
   "source": [
    "print(\"Page - Summary: %s\" % page_setup.summary)"
   ]
  },
  {
   "cell_type": "code",
   "execution_count": 5,
   "metadata": {},
   "outputs": [],
   "source": [
    "import nltk\n",
    "#nltk.download('punkt')\n",
    "from nltk.tokenize import sent_tokenize,word_tokenize"
   ]
  },
  {
   "cell_type": "code",
   "execution_count": 6,
   "metadata": {},
   "outputs": [],
   "source": [
    "list_sum = sent_tokenize(page_setup.summary)"
   ]
  },
  {
   "cell_type": "code",
   "execution_count": 7,
   "metadata": {},
   "outputs": [
    {
     "name": "stdout",
     "output_type": "stream",
     "text": [
      "His brother Jeb Bush, a former Governor of Florida, was a candidate for the Republican presidential nomination in the 2016 presidential election.\n"
     ]
    },
    {
     "data": {
      "text/plain": [
       "27"
      ]
     },
     "execution_count": 7,
     "metadata": {},
     "output_type": "execute_result"
    }
   ],
   "source": [
    "print(list_sum[10])\n",
    "len(list_sum)"
   ]
  },
  {
   "cell_type": "code",
   "execution_count": 8,
   "metadata": {},
   "outputs": [],
   "source": [
    "w_List=word_tokenize(page_setup.summary)"
   ]
  },
  {
   "cell_type": "code",
   "execution_count": 9,
   "metadata": {},
   "outputs": [
    {
     "name": "stdout",
     "output_type": "stream",
     "text": [
      "['George', 'Walker', 'Bush', '(', 'born', 'July', '6', ',', '1946', ')', 'is', 'an', 'American', 'politician', 'and', 'businessman', 'who', 'served', 'as', 'the', '43rd', 'president', 'of', 'the', 'United', 'States', 'from', '2001', 'to', '2009', '.', 'He', 'had', 'previously', 'served', 'as', 'the', '46th', 'governor', 'of', 'Texas', 'from', '1995', 'to', '2000', '.', 'Bush', 'was', 'born', 'in', 'New', 'Haven', ',', 'Connecticut', ',', 'and', 'grew', 'up', 'in', 'Texas', '.', 'After', 'graduating', 'from', 'Yale', 'University', 'in', '1968', 'and', 'Harvard', 'Business', 'School', 'in', '1975', ',', 'he', 'worked', 'in', 'the', 'oil', 'industry', '.', 'Bush', 'married', 'Laura', 'Welch', 'in', '1977', 'and', 'unsuccessfully', 'ran', 'for', 'the', 'U.S.', 'House', 'of', 'Representatives', 'shortly', 'thereafter', '.', 'He', 'later', 'co-owned', 'the', 'Texas', 'Rangers', 'baseball', 'team', 'before', 'defeating', 'Ann', 'Richards', 'in', 'the', '1994', 'Texas', 'gubernatorial', 'election', '.', 'Bush', 'was', 'elected', 'President', 'of', 'the', 'United', 'States', 'in', '2000', 'when', 'he', 'defeated', 'Democratic', 'incumbent', 'Vice', 'President', 'Al', 'Gore', 'after', 'a', 'close', 'and', 'controversial', 'win', 'that', 'involved', 'a', 'stopped', 'recount', 'in', 'Florida', '.', 'He', 'became', 'the', 'fourth', 'person', 'to', 'be', 'elected', 'president', 'while', 'receiving', 'fewer', 'popular', 'votes', 'than', 'his', 'opponent', '.', 'Bush', 'is', 'a', 'member', 'of', 'a', 'prominent', 'political', 'family', 'and', 'is', 'the', 'eldest', 'son', 'of', 'Barbara', 'and', 'George', 'H.', 'W.', 'Bush', ',', 'the', '41st', 'president', 'of', 'the', 'United', 'States', '.', 'He', 'is', 'only', 'the', 'second', 'president', 'to', 'assume', 'the', 'nation', \"'s\", 'highest', 'office', 'after', 'his', 'father', ',', 'following', 'the', 'footsteps', 'of', 'John', 'Adams', 'and', 'his', 'son', ',', 'John', 'Quincy', 'Adams', '.', 'His', 'brother', 'Jeb', 'Bush', ',', 'a', 'former', 'Governor', 'of', 'Florida', ',', 'was', 'a', 'candidate', 'for', 'the', 'Republican', 'presidential', 'nomination', 'in', 'the', '2016', 'presidential', 'election', '.', 'His', 'paternal', 'grandfather', ',', 'Prescott', 'Bush', ',', 'was', 'a', 'U.S', '.', 'Senator', 'from', 'Connecticut']\n"
     ]
    }
   ],
   "source": [
    "print(w_List[0:270])"
   ]
  },
  {
   "cell_type": "code",
   "execution_count": 10,
   "metadata": {},
   "outputs": [],
   "source": [
    "import matplotlib.pyplot as plt\n",
    "import numpy as np\n",
    "%matplotlib inline"
   ]
  },
  {
   "cell_type": "code",
   "execution_count": 11,
   "metadata": {},
   "outputs": [],
   "source": [
    "Slen=[]\n",
    "for i in list_sum:\n",
    "    Slen.append(len(i))"
   ]
  },
  {
   "cell_type": "code",
   "execution_count": 12,
   "metadata": {},
   "outputs": [
    {
     "name": "stderr",
     "output_type": "stream",
     "text": [
      "C:\\Users\\santh\\Anaconda3\\lib\\site-packages\\matplotlib\\axes\\_axes.py:6521: MatplotlibDeprecationWarning: \n",
      "The 'normed' kwarg was deprecated in Matplotlib 2.1 and will be removed in 3.1. Use 'density' instead.\n",
      "  alternative=\"'density'\", removal=\"3.1\")\n"
     ]
    },
    {
     "data": {
      "text/plain": [
       "(array([0.00734862, 0.        , 0.        , 0.00734862, 0.00734862,\n",
       "        0.00734862, 0.        , 0.00734862, 0.        , 0.00734862,\n",
       "        0.00734862, 0.        , 0.        , 0.00734862, 0.00734862,\n",
       "        0.00734862, 0.01469724, 0.02204586, 0.00734862, 0.00734862,\n",
       "        0.        , 0.        , 0.        , 0.01469724, 0.        ,\n",
       "        0.00734862, 0.00734862, 0.        , 0.        , 0.00734862,\n",
       "        0.        , 0.        , 0.        , 0.01469724, 0.        ,\n",
       "        0.        , 0.        , 0.        , 0.        , 0.00734862,\n",
       "        0.        , 0.        , 0.        , 0.        , 0.        ,\n",
       "        0.        , 0.        , 0.        , 0.00734862, 0.00734862]),\n",
       " array([ 25.  ,  30.04,  35.08,  40.12,  45.16,  50.2 ,  55.24,  60.28,\n",
       "         65.32,  70.36,  75.4 ,  80.44,  85.48,  90.52,  95.56, 100.6 ,\n",
       "        105.64, 110.68, 115.72, 120.76, 125.8 , 130.84, 135.88, 140.92,\n",
       "        145.96, 151.  , 156.04, 161.08, 166.12, 171.16, 176.2 , 181.24,\n",
       "        186.28, 191.32, 196.36, 201.4 , 206.44, 211.48, 216.52, 221.56,\n",
       "        226.6 , 231.64, 236.68, 241.72, 246.76, 251.8 , 256.84, 261.88,\n",
       "        266.92, 271.96, 277.  ]),\n",
       " <a list of 50 Patch objects>)"
      ]
     },
     "execution_count": 12,
     "metadata": {},
     "output_type": "execute_result"
    },
    {
     "data": {
      "image/png": "[encoded data removed]",
      "text/plain": [
       "<Figure size 432x288 with 1 Axes>"
      ]
     },
     "metadata": {
      "needs_background": "light"
     },
     "output_type": "display_data"
    }
   ],
   "source": [
    "plt.hist(Slen, normed=True, bins=50)"
   ]
  },
  {
   "cell_type": "code",
   "execution_count": 13,
   "metadata": {},
   "outputs": [],
   "source": [
    "from nltk.corpus import stopwords\n",
    "Stop_words=set(stopwords.words(\"english\"))"
   ]
  },
  {
   "cell_type": "code",
   "execution_count": 14,
   "metadata": {},
   "outputs": [
    {
     "name": "stdout",
     "output_type": "stream",
     "text": [
      "{'were', \"didn't\", 'any', 'at', 'm', 'but', 'both', 'we', 'myself', 'me', 'my', 'what', 'too', 'is', 'then', 'should', 'don', 'there', 'down', 'to', \"haven't\", 's', 've', 'your', \"should've\", 'below', 'didn', 'more', \"hadn't\", 't', 'only', 'up', 'was', 'been', 'himself', 'just', 'd', \"you'd\", 'yourself', 'do', 'she', 'out', 'through', 'mightn', \"wasn't\", 'did', 'while', 'hadn', \"that'll\", 'have', 'isn', 'yours', \"won't\", 'who', 'has', 'here', \"doesn't\", \"mustn't\", 'with', 'an', \"shouldn't\", 'into', 'some', 'you', 'its', \"you're\", 'not', 'll', 'needn', 'those', 'all', 'how', 'can', 'be', 'until', 'the', 'haven', 'wasn', 'our', 'in', 'than', 'him', 'ain', 'ma', 'had', 'will', 'wouldn', \"you've\", 'on', 'each', 'ours', 'from', 'for', 'themselves', 'yourselves', 'mustn', 'off', 'again', 'they', \"couldn't\", \"needn't\", 'or', 'shouldn', \"she's\", 'aren', 'won', 'because', \"weren't\", 'y', 'whom', 'doing', 'why', 'am', 'couldn', 'theirs', 'such', 'their', \"aren't\", 'his', 'are', \"isn't\", 'i', 'them', 're', 'herself', 'when', 'shan', 'once', 'between', 'having', 'few', 'most', 'over', 'that', 'no', 'hasn', 'hers', 'further', 'and', 'so', 'if', 'which', 'being', 'during', 'does', 'other', 'as', 'ourselves', \"don't\", 'against', \"mightn't\", 'he', 'doesn', 'itself', 'after', 'this', 'where', 'her', 'above', \"shan't\", \"hasn't\", 'now', 'nor', 'of', 'under', 'these', 'very', 'it', \"you'll\", 'a', 'same', \"wouldn't\", 'o', 'before', 'own', 'weren', 'by', 'about', \"it's\"}\n"
     ]
    }
   ],
   "source": [
    "print(Stop_words)"
   ]
  },
  {
   "cell_type": "code",
   "execution_count": 15,
   "metadata": {},
   "outputs": [],
   "source": [
    "fil_words = [i for i in w_List if not i in Stop_words]"
   ]
  },
  {
   "cell_type": "code",
   "execution_count": 16,
   "metadata": {},
   "outputs": [
    {
     "data": {
      "text/plain": [
       "['George',\n",
       " 'Walker',\n",
       " 'Bush',\n",
       " '(',\n",
       " 'born',\n",
       " 'July',\n",
       " '6',\n",
       " ',',\n",
       " '1946',\n",
       " ')',\n",
       " 'American',\n",
       " 'politician',\n",
       " 'businessman',\n",
       " 'served',\n",
       " '43rd',\n",
       " 'president',\n",
       " 'United',\n",
       " 'States',\n",
       " '2001',\n",
       " '2009',\n",
       " '.',\n",
       " 'He',\n",
       " 'previously',\n",
       " 'served',\n",
       " '46th',\n",
       " 'governor',\n",
       " 'Texas',\n",
       " '1995',\n",
       " '2000',\n",
       " '.',\n",
       " 'Bush',\n",
       " 'born',\n",
       " 'New',\n",
       " 'Haven',\n",
       " ',',\n",
       " 'Connecticut',\n",
       " ',',\n",
       " 'grew',\n",
       " 'Texas',\n",
       " '.',\n",
       " 'After',\n",
       " 'graduating',\n",
       " 'Yale',\n",
       " 'University',\n",
       " '1968',\n",
       " 'Harvard',\n",
       " 'Business',\n",
       " 'School',\n",
       " '1975',\n",
       " ',',\n",
       " 'worked',\n",
       " 'oil',\n",
       " 'industry',\n",
       " '.',\n",
       " 'Bush',\n",
       " 'married',\n",
       " 'Laura',\n",
       " 'Welch',\n",
       " '1977',\n",
       " 'unsuccessfully',\n",
       " 'ran',\n",
       " 'U.S.',\n",
       " 'House',\n",
       " 'Representatives',\n",
       " 'shortly',\n",
       " 'thereafter',\n",
       " '.',\n",
       " 'He',\n",
       " 'later',\n",
       " 'co-owned',\n",
       " 'Texas',\n",
       " 'Rangers',\n",
       " 'baseball',\n",
       " 'team',\n",
       " 'defeating',\n",
       " 'Ann',\n",
       " 'Richards',\n",
       " '1994',\n",
       " 'Texas',\n",
       " 'gubernatorial',\n",
       " 'election',\n",
       " '.',\n",
       " 'Bush',\n",
       " 'elected',\n",
       " 'President',\n",
       " 'United',\n",
       " 'States',\n",
       " '2000',\n",
       " 'defeated',\n",
       " 'Democratic',\n",
       " 'incumbent',\n",
       " 'Vice',\n",
       " 'President',\n",
       " 'Al',\n",
       " 'Gore',\n",
       " 'close',\n",
       " 'controversial',\n",
       " 'win',\n",
       " 'involved',\n",
       " 'stopped',\n",
       " 'recount',\n",
       " 'Florida',\n",
       " '.',\n",
       " 'He',\n",
       " 'became',\n",
       " 'fourth',\n",
       " 'person',\n",
       " 'elected',\n",
       " 'president',\n",
       " 'receiving',\n",
       " 'fewer',\n",
       " 'popular',\n",
       " 'votes',\n",
       " 'opponent',\n",
       " '.',\n",
       " 'Bush',\n",
       " 'member',\n",
       " 'prominent',\n",
       " 'political',\n",
       " 'family',\n",
       " 'eldest',\n",
       " 'son',\n",
       " 'Barbara',\n",
       " 'George',\n",
       " 'H.',\n",
       " 'W.',\n",
       " 'Bush',\n",
       " ',',\n",
       " '41st',\n",
       " 'president',\n",
       " 'United',\n",
       " 'States',\n",
       " '.',\n",
       " 'He',\n",
       " 'second',\n",
       " 'president',\n",
       " 'assume',\n",
       " 'nation',\n",
       " \"'s\",\n",
       " 'highest',\n",
       " 'office',\n",
       " 'father',\n",
       " ',',\n",
       " 'following',\n",
       " 'footsteps',\n",
       " 'John',\n",
       " 'Adams',\n",
       " 'son',\n",
       " ',',\n",
       " 'John',\n",
       " 'Quincy',\n",
       " 'Adams',\n",
       " '.',\n",
       " 'His',\n",
       " 'brother',\n",
       " 'Jeb',\n",
       " 'Bush',\n",
       " ',',\n",
       " 'former',\n",
       " 'Governor',\n",
       " 'Florida',\n",
       " ',',\n",
       " 'candidate',\n",
       " 'Republican',\n",
       " 'presidential',\n",
       " 'nomination',\n",
       " '2016',\n",
       " 'presidential',\n",
       " 'election',\n",
       " '.',\n",
       " 'His',\n",
       " 'paternal',\n",
       " 'grandfather',\n",
       " ',',\n",
       " 'Prescott',\n",
       " 'Bush',\n",
       " ',',\n",
       " 'U.S',\n",
       " '.',\n",
       " 'Senator',\n",
       " 'Connecticut',\n",
       " '.',\n",
       " 'The',\n",
       " 'September',\n",
       " '11',\n",
       " 'terrorist',\n",
       " 'attacks',\n",
       " 'occurred',\n",
       " 'eight',\n",
       " 'months',\n",
       " 'Bush',\n",
       " \"'s\",\n",
       " 'first',\n",
       " 'term',\n",
       " '.',\n",
       " 'Bush',\n",
       " 'responded',\n",
       " 'became',\n",
       " 'known',\n",
       " 'Bush',\n",
       " 'Doctrine',\n",
       " ':',\n",
       " 'launching',\n",
       " '``',\n",
       " 'War',\n",
       " 'Terror',\n",
       " \"''\",\n",
       " ',',\n",
       " 'international',\n",
       " 'military',\n",
       " 'campaign',\n",
       " 'included',\n",
       " 'war',\n",
       " 'Afghanistan',\n",
       " '2001',\n",
       " 'Iraq',\n",
       " 'War',\n",
       " '2003',\n",
       " '.',\n",
       " 'He',\n",
       " 'signed',\n",
       " 'law',\n",
       " 'broad',\n",
       " 'tax',\n",
       " 'cuts',\n",
       " ',',\n",
       " 'Patriot',\n",
       " 'Act',\n",
       " ',',\n",
       " 'No',\n",
       " 'Child',\n",
       " 'Left',\n",
       " 'Behind',\n",
       " 'Act',\n",
       " ',',\n",
       " 'Partial-Birth',\n",
       " 'Abortion',\n",
       " 'Ban',\n",
       " 'Act',\n",
       " ',',\n",
       " 'Medicare',\n",
       " 'prescription',\n",
       " 'drug',\n",
       " 'benefits',\n",
       " 'seniors',\n",
       " ',',\n",
       " 'funding',\n",
       " 'AIDS',\n",
       " 'relief',\n",
       " 'program',\n",
       " 'known',\n",
       " 'PEPFAR',\n",
       " '.',\n",
       " 'His',\n",
       " 'tenure',\n",
       " 'included',\n",
       " 'national',\n",
       " 'debates',\n",
       " 'immigration',\n",
       " ',',\n",
       " 'Social',\n",
       " 'Security',\n",
       " ',',\n",
       " 'electronic',\n",
       " 'surveillance',\n",
       " ',',\n",
       " 'torture',\n",
       " '.',\n",
       " 'In',\n",
       " '2004',\n",
       " 'presidential',\n",
       " 'race',\n",
       " ',',\n",
       " 'Bush',\n",
       " 'defeated',\n",
       " 'Democratic',\n",
       " 'Senator',\n",
       " 'John',\n",
       " 'Kerry',\n",
       " 'another',\n",
       " 'relatively',\n",
       " 'close',\n",
       " 'election',\n",
       " '.',\n",
       " 'After',\n",
       " 're-election',\n",
       " ',',\n",
       " 'Bush',\n",
       " 'received',\n",
       " 'increasingly',\n",
       " 'heated',\n",
       " 'criticism',\n",
       " 'across',\n",
       " 'political',\n",
       " 'spectrum',\n",
       " 'handling',\n",
       " 'Iraq',\n",
       " 'War',\n",
       " ',',\n",
       " 'Hurricane',\n",
       " 'Katrina',\n",
       " ',',\n",
       " 'challenges',\n",
       " '.',\n",
       " 'Amid',\n",
       " 'criticism',\n",
       " ',',\n",
       " 'Democratic',\n",
       " 'Party',\n",
       " 'regained',\n",
       " 'control',\n",
       " 'Congress',\n",
       " '2006',\n",
       " 'elections',\n",
       " '.',\n",
       " 'In',\n",
       " 'December',\n",
       " '2007',\n",
       " ',',\n",
       " 'United',\n",
       " 'States',\n",
       " 'entered',\n",
       " 'longest',\n",
       " 'post-World',\n",
       " 'War',\n",
       " 'II',\n",
       " 'recession',\n",
       " ',',\n",
       " 'often',\n",
       " 'referred',\n",
       " '``',\n",
       " 'Great',\n",
       " 'Recession',\n",
       " \"''\",\n",
       " ',',\n",
       " 'prompting',\n",
       " 'Bush',\n",
       " 'administration',\n",
       " 'obtain',\n",
       " 'congressional',\n",
       " 'passage',\n",
       " 'multiple',\n",
       " 'economic',\n",
       " 'programs',\n",
       " 'intended',\n",
       " 'preserve',\n",
       " 'country',\n",
       " \"'s\",\n",
       " 'financial',\n",
       " 'system',\n",
       " '.',\n",
       " 'Nationally',\n",
       " ',',\n",
       " 'Bush',\n",
       " 'one',\n",
       " 'popular',\n",
       " 'unpopular',\n",
       " 'U.S.',\n",
       " 'presidents',\n",
       " 'history',\n",
       " ',',\n",
       " 'received',\n",
       " 'highest',\n",
       " 'recorded',\n",
       " 'presidential',\n",
       " 'approval',\n",
       " 'ratings',\n",
       " 'wake',\n",
       " '9/11',\n",
       " 'attacks',\n",
       " ',',\n",
       " 'well',\n",
       " 'one',\n",
       " 'lowest',\n",
       " 'approval',\n",
       " 'ratings',\n",
       " '2008',\n",
       " 'financial',\n",
       " 'crisis',\n",
       " '.',\n",
       " 'Bush',\n",
       " 'finished',\n",
       " 'term',\n",
       " 'office',\n",
       " '2009',\n",
       " 'returned',\n",
       " 'Texas',\n",
       " ',',\n",
       " 'purchased',\n",
       " 'home',\n",
       " 'Dallas',\n",
       " '.',\n",
       " 'In',\n",
       " '2010',\n",
       " ',',\n",
       " 'published',\n",
       " 'memoir',\n",
       " ',',\n",
       " 'Decision',\n",
       " 'Points',\n",
       " '.',\n",
       " 'His',\n",
       " 'presidential',\n",
       " 'library',\n",
       " 'opened',\n",
       " '2013',\n",
       " '.',\n",
       " 'His',\n",
       " 'presidency',\n",
       " 'ranked',\n",
       " 'among',\n",
       " 'worst',\n",
       " 'historians',\n",
       " \"'\",\n",
       " 'polls',\n",
       " 'published',\n",
       " 'late',\n",
       " '2000s',\n",
       " '2010s',\n",
       " '.',\n",
       " 'However',\n",
       " ',',\n",
       " 'favorability',\n",
       " 'ratings',\n",
       " 'public',\n",
       " 'improved',\n",
       " 'significantly',\n",
       " 'leaving',\n",
       " 'office',\n",
       " '.']"
      ]
     },
     "execution_count": 16,
     "metadata": {},
     "output_type": "execute_result"
    }
   ],
   "source": [
    "fil_words"
   ]
  },
  {
   "cell_type": "code",
   "execution_count": 17,
   "metadata": {},
   "outputs": [],
   "source": [
    "from nltk.stem import PorterStemmer\n",
    "from nltk.stem.lancaster import LancasterStemmer\n",
    "PS=PorterStemmer()\n",
    "LS=LancasterStemmer()"
   ]
  },
  {
   "cell_type": "code",
   "execution_count": 18,
   "metadata": {},
   "outputs": [],
   "source": [
    "Stem_w=[PS.stem(w) for w in fil_words]\n",
    "Stem_w2=[LS.stem(w) for w in fil_words]"
   ]
  },
  {
   "cell_type": "code",
   "execution_count": 19,
   "metadata": {},
   "outputs": [
    {
     "data": {
      "text/plain": [
       "['Walker', 'Bush', '(', 'born', 'July', '6', ',', '1946', ')']"
      ]
     },
     "execution_count": 19,
     "metadata": {},
     "output_type": "execute_result"
    }
   ],
   "source": [
    "fil_words[1:10]"
   ]
  },
  {
   "cell_type": "code",
   "execution_count": 20,
   "metadata": {},
   "outputs": [
    {
     "data": {
      "text/plain": [
       "['walker', 'bush', '(', 'born', 'juli', '6', ',', '1946', ')']"
      ]
     },
     "execution_count": 20,
     "metadata": {},
     "output_type": "execute_result"
    }
   ],
   "source": [
    "Stem_w[1:10]"
   ]
  },
  {
   "cell_type": "code",
   "execution_count": 21,
   "metadata": {},
   "outputs": [
    {
     "data": {
      "text/plain": [
       "['walk', 'bush', '(', 'born', 'july', '6', ',', '1946', ')']"
      ]
     },
     "execution_count": 21,
     "metadata": {},
     "output_type": "execute_result"
    }
   ],
   "source": [
    "Stem_w2[1:10]"
   ]
  },
  {
   "cell_type": "code",
   "execution_count": 22,
   "metadata": {},
   "outputs": [],
   "source": [
    "from nltk.stem import RegexpStemmer\n",
    "rs=RegexpStemmer('ing')\n",
    "Stem_w3=[rs.stem(w) for w in fil_words]"
   ]
  },
  {
   "cell_type": "code",
   "execution_count": 23,
   "metadata": {},
   "outputs": [
    {
     "data": {
      "text/plain": [
       "['George', 'Walker', 'Bush', '(', 'born', 'July', '6', ',', '1946', ')']"
      ]
     },
     "execution_count": 23,
     "metadata": {},
     "output_type": "execute_result"
    }
   ],
   "source": [
    "Stem_w3[0:10]"
   ]
  },
  {
   "cell_type": "code",
   "execution_count": 24,
   "metadata": {},
   "outputs": [],
   "source": [
    "from nltk import pos_tag\n",
    "pspeech=nltk.pos_tag(fil_words)"
   ]
  },
  {
   "cell_type": "code",
   "execution_count": 25,
   "metadata": {
    "scrolled": true
   },
   "outputs": [
    {
     "data": {
      "text/plain": [
       "[('George', 'NNP'),\n",
       " ('Walker', 'NNP'),\n",
       " ('Bush', 'NNP'),\n",
       " ('(', '('),\n",
       " ('born', 'VBN'),\n",
       " ('July', 'NNP'),\n",
       " ('6', 'CD'),\n",
       " (',', ','),\n",
       " ('1946', 'CD'),\n",
       " (')', ')')]"
      ]
     },
     "execution_count": 25,
     "metadata": {},
     "output_type": "execute_result"
    }
   ],
   "source": [
    "pspeech[:10]"
   ]
  },
  {
   "cell_type": "code",
   "execution_count": 26,
   "metadata": {
    "scrolled": true
   },
   "outputs": [
    {
     "name": "stdout",
     "output_type": "stream",
     "text": [
      "[('George', 'NNP'), ('Walker', 'NNP'), ('Bush', 'NNP'), ('(', '('), ('born', 'VBN'), ('July', 'NNP'), ('6', 'CD'), (',', ','), ('1946', 'CD'), (')', ')'), ('American', 'JJ'), ('politician', 'NN'), ('businessman', 'NN'), ('served', 'VBD'), ('43rd', 'CD'), ('president', 'NN'), ('United', 'NNP'), ('States', 'NNPS'), ('2001', 'CD'), ('2009', 'CD'), ('.', '.'), ('He', 'PRP'), ('previously', 'RB'), ('served', 'VBD'), ('46th', 'CD'), ('governor', 'NN'), ('Texas', 'NNP'), ('1995', 'CD'), ('2000', 'CD'), ('.', '.'), ('Bush', 'NNP'), ('born', 'VBD'), ('New', 'NNP'), ('Haven', 'NNP'), (',', ','), ('Connecticut', 'NNP'), (',', ','), ('grew', 'VBD'), ('Texas', 'NNP'), ('.', '.'), ('After', 'IN'), ('graduating', 'VBG'), ('Yale', 'NNP'), ('University', 'NNP'), ('1968', 'CD'), ('Harvard', 'NNP'), ('Business', 'NNP'), ('School', 'NNP'), ('1975', 'CD'), (',', ','), ('worked', 'VBD'), ('oil', 'NN'), ('industry', 'NN'), ('.', '.'), ('Bush', 'NNP'), ('married', 'VBD'), ('Laura', 'NNP'), ('Welch', 'NNP'), ('1977', 'CD'), ('unsuccessfully', 'RB'), ('ran', 'VBD'), ('U.S.', 'NNP'), ('House', 'NNP'), ('Representatives', 'VBZ'), ('shortly', 'RB'), ('thereafter', 'RB'), ('.', '.'), ('He', 'PRP'), ('later', 'RB'), ('co-owned', 'VBD'), ('Texas', 'NNP'), ('Rangers', 'NNPS'), ('baseball', 'NN'), ('team', 'NN'), ('defeating', 'VBG'), ('Ann', 'NNP'), ('Richards', 'NNP'), ('1994', 'CD'), ('Texas', 'NNP'), ('gubernatorial', 'JJ'), ('election', 'NN'), ('.', '.'), ('Bush', 'NNP'), ('elected', 'VBD'), ('President', 'NNP'), ('United', 'NNP'), ('States', 'NNPS'), ('2000', 'CD'), ('defeated', 'VBD'), ('Democratic', 'JJ'), ('incumbent', 'JJ'), ('Vice', 'NNP'), ('President', 'NNP'), ('Al', 'NNP'), ('Gore', 'NNP'), ('close', 'JJ'), ('controversial', 'JJ'), ('win', 'NN'), ('involved', 'VBN'), ('stopped', 'VBD'), ('recount', 'VB'), ('Florida', 'NNP'), ('.', '.'), ('He', 'PRP'), ('became', 'VBD'), ('fourth', 'JJ'), ('person', 'NN'), ('elected', 'VBD'), ('president', 'NN'), ('receiving', 'VBG'), ('fewer', 'JJR'), ('popular', 'JJ'), ('votes', 'NNS'), ('opponent', 'NN'), ('.', '.'), ('Bush', 'NNP'), ('member', 'NN'), ('prominent', 'JJ'), ('political', 'JJ'), ('family', 'NN'), ('eldest', 'JJS'), ('son', 'NN'), ('Barbara', 'NNP'), ('George', 'NNP'), ('H.', 'NNP'), ('W.', 'NNP'), ('Bush', 'NNP'), (',', ','), ('41st', 'CD'), ('president', 'NN'), ('United', 'NNP'), ('States', 'NNPS'), ('.', '.'), ('He', 'PRP'), ('second', 'JJ'), ('president', 'NN'), ('assume', 'IN'), ('nation', 'NN'), (\"'s\", 'POS'), ('highest', 'JJS'), ('office', 'NN'), ('father', 'NN'), (',', ','), ('following', 'VBG'), ('footsteps', 'NNS'), ('John', 'NNP'), ('Adams', 'NNP'), ('son', 'NN'), (',', ','), ('John', 'NNP'), ('Quincy', 'NNP'), ('Adams', 'NNP'), ('.', '.'), ('His', 'PRP$'), ('brother', 'NN'), ('Jeb', 'NNP'), ('Bush', 'NNP'), (',', ','), ('former', 'JJ'), ('Governor', 'NNP'), ('Florida', 'NNP'), (',', ','), ('candidate', 'JJ'), ('Republican', 'NNP'), ('presidential', 'NN'), ('nomination', 'NN'), ('2016', 'CD'), ('presidential', 'JJ'), ('election', 'NN'), ('.', '.'), ('His', 'PRP$'), ('paternal', 'JJ'), ('grandfather', 'NN'), (',', ','), ('Prescott', 'NNP'), ('Bush', 'NNP'), (',', ','), ('U.S', 'NNP'), ('.', '.'), ('Senator', 'NNP'), ('Connecticut', 'NNP'), ('.', '.'), ('The', 'DT'), ('September', 'NNP'), ('11', 'CD'), ('terrorist', 'NN'), ('attacks', 'NNS'), ('occurred', 'VBD'), ('eight', 'CD'), ('months', 'NNS'), ('Bush', 'NNP'), (\"'s\", 'POS'), ('first', 'JJ'), ('term', 'NN'), ('.', '.'), ('Bush', 'NNP'), ('responded', 'VBD'), ('became', 'VBD'), ('known', 'JJ'), ('Bush', 'NNP'), ('Doctrine', 'NN'), (':', ':'), ('launching', 'JJ'), ('``', '``'), ('War', 'NNP'), ('Terror', 'NNP'), (\"''\", \"''\"), (',', ','), ('international', 'JJ'), ('military', 'JJ'), ('campaign', 'NN'), ('included', 'VBD'), ('war', 'NN'), ('Afghanistan', 'NNP'), ('2001', 'CD'), ('Iraq', 'NNP'), ('War', 'NNP'), ('2003', 'CD'), ('.', '.'), ('He', 'PRP'), ('signed', 'VBD'), ('law', 'NN'), ('broad', 'JJ'), ('tax', 'NN'), ('cuts', 'NNS'), (',', ','), ('Patriot', 'NNP'), ('Act', 'NNP'), (',', ','), ('No', 'NNP'), ('Child', 'NNP'), ('Left', 'NNP'), ('Behind', 'NNP'), ('Act', 'NNP'), (',', ','), ('Partial-Birth', 'NNP'), ('Abortion', 'NNP'), ('Ban', 'NNP'), ('Act', 'NNP'), (',', ','), ('Medicare', 'NNP'), ('prescription', 'NN'), ('drug', 'NN'), ('benefits', 'NNS'), ('seniors', 'NNS'), (',', ','), ('funding', 'VBG'), ('AIDS', 'NNP'), ('relief', 'NN'), ('program', 'NN'), ('known', 'VBN'), ('PEPFAR', 'NNP'), ('.', '.'), ('His', 'PRP$'), ('tenure', 'NN'), ('included', 'VBD'), ('national', 'JJ'), ('debates', 'NNS'), ('immigration', 'NN'), (',', ','), ('Social', 'NNP'), ('Security', 'NNP'), (',', ','), ('electronic', 'JJ'), ('surveillance', 'NN'), (',', ','), ('torture', 'NN'), ('.', '.'), ('In', 'IN'), ('2004', 'CD'), ('presidential', 'JJ'), ('race', 'NN'), (',', ','), ('Bush', 'NNP'), ('defeated', 'VBD'), ('Democratic', 'JJ'), ('Senator', 'NNP'), ('John', 'NNP'), ('Kerry', 'NNP'), ('another', 'DT'), ('relatively', 'RB'), ('close', 'JJ'), ('election', 'NN'), ('.', '.'), ('After', 'IN'), ('re-election', 'NN'), (',', ','), ('Bush', 'NNP'), ('received', 'VBD'), ('increasingly', 'RB'), ('heated', 'VBN'), ('criticism', 'NN'), ('across', 'IN'), ('political', 'JJ'), ('spectrum', 'NN'), ('handling', 'VBG'), ('Iraq', 'NNP'), ('War', 'NNP'), (',', ','), ('Hurricane', 'NNP'), ('Katrina', 'NNP'), (',', ','), ('challenges', 'NNS'), ('.', '.'), ('Amid', 'NNP'), ('criticism', 'NN'), (',', ','), ('Democratic', 'NNP'), ('Party', 'NNP'), ('regained', 'VBD'), ('control', 'NN'), ('Congress', 'NNP'), ('2006', 'CD'), ('elections', 'NNS'), ('.', '.'), ('In', 'IN'), ('December', 'NNP'), ('2007', 'CD'), (',', ','), ('United', 'NNP'), ('States', 'NNPS'), ('entered', 'VBD'), ('longest', 'JJS'), ('post-World', 'JJ'), ('War', 'NNP'), ('II', 'NNP'), ('recession', 'NN'), (',', ','), ('often', 'RB'), ('referred', 'VBN'), ('``', '``'), ('Great', 'JJ'), ('Recession', 'NN'), (\"''\", \"''\"), (',', ','), ('prompting', 'VBG'), ('Bush', 'NNP'), ('administration', 'NN'), ('obtain', 'VB'), ('congressional', 'JJ'), ('passage', 'NN'), ('multiple', 'JJ'), ('economic', 'JJ'), ('programs', 'NNS'), ('intended', 'VBD'), ('preserve', 'VBP'), ('country', 'NN'), (\"'s\", 'POS'), ('financial', 'JJ'), ('system', 'NN'), ('.', '.'), ('Nationally', 'RB'), (',', ','), ('Bush', 'NNP'), ('one', 'CD'), ('popular', 'JJ'), ('unpopular', 'JJ'), ('U.S.', 'NNP'), ('presidents', 'NNS'), ('history', 'NN'), (',', ','), ('received', 'VBD'), ('highest', 'JJS'), ('recorded', 'VBN'), ('presidential', 'JJ'), ('approval', 'NN'), ('ratings', 'NNS'), ('wake', 'VBP'), ('9/11', 'CD'), ('attacks', 'NNS'), (',', ','), ('well', 'RB'), ('one', 'CD'), ('lowest', 'JJS'), ('approval', 'NN'), ('ratings', 'NNS'), ('2008', 'CD'), ('financial', 'JJ'), ('crisis', 'NN'), ('.', '.'), ('Bush', 'NNP'), ('finished', 'VBD'), ('term', 'NN'), ('office', 'NN'), ('2009', 'CD'), ('returned', 'VBD'), ('Texas', 'NNP'), (',', ','), ('purchased', 'VBD'), ('home', 'NN'), ('Dallas', 'NNP'), ('.', '.'), ('In', 'IN'), ('2010', 'CD'), (',', ','), ('published', 'VBN'), ('memoir', 'NN'), (',', ','), ('Decision', 'NNP'), ('Points', 'NNP'), ('.', '.'), ('His', 'PRP$'), ('presidential', 'JJ'), ('library', 'NN'), ('opened', 'VBD'), ('2013', 'CD'), ('.', '.'), ('His', 'PRP$'), ('presidency', 'NN'), ('ranked', 'VBD'), ('among', 'IN'), ('worst', 'JJ'), ('historians', 'NNS'), (\"'\", 'POS'), ('polls', 'NNS'), ('published', 'VBN'), ('late', 'RB'), ('2000s', 'CD'), ('2010s', 'CD'), ('.', '.'), ('However', 'RB'), (',', ','), ('favorability', 'JJ'), ('ratings', 'NNS'), ('public', 'JJ'), ('improved', 'VBN'), ('significantly', 'RB'), ('leaving', 'VBG'), ('office', 'NN'), ('.', '.')]\n"
     ]
    }
   ],
   "source": [
    "print(pspeech)"
   ]
  },
  {
   "cell_type": "code",
   "execution_count": 27,
   "metadata": {},
   "outputs": [],
   "source": [
    "from nltk.chunk import RegexpParser"
   ]
  },
  {
   "cell_type": "code",
   "execution_count": 28,
   "metadata": {},
   "outputs": [
    {
     "name": "stdout",
     "output_type": "stream",
     "text": [
      "Exception reporting mode: Verbose\n"
     ]
    }
   ],
   "source": [
    "%xmode verbose"
   ]
  },
  {
   "cell_type": "code",
   "execution_count": 29,
   "metadata": {},
   "outputs": [],
   "source": [
    "gram=r\"gram:{<NNP>*<NN>*<RB>+<NN>*}\""
   ]
  },
  {
   "cell_type": "code",
   "execution_count": 30,
   "metadata": {},
   "outputs": [],
   "source": [
    "gram_p=RegexpParser(gram)"
   ]
  },
  {
   "cell_type": "code",
   "execution_count": 31,
   "metadata": {},
   "outputs": [],
   "source": [
    "chunk=gram_p.parse(pspeech)"
   ]
  },
  {
   "cell_type": "code",
   "execution_count": 34,
   "metadata": {},
   "outputs": [
    {
     "name": "stdout",
     "output_type": "stream",
     "text": [
      "('George', 'NNP')\n",
      "*******\n",
      "('Walker', 'NNP')\n",
      "*******\n",
      "('Bush', 'NNP')\n",
      "*******\n",
      "('(', '(')\n",
      "*******\n",
      "('born', 'VBN')\n",
      "*******\n",
      "('July', 'NNP')\n",
      "*******\n",
      "('6', 'CD')\n",
      "*******\n",
      "(',', ',')\n",
      "*******\n",
      "('1946', 'CD')\n",
      "*******\n",
      "(')', ')')\n",
      "*******\n",
      "('American', 'JJ')\n",
      "*******\n",
      "('politician', 'NN')\n",
      "*******\n",
      "('businessman', 'NN')\n",
      "*******\n",
      "('served', 'VBD')\n",
      "*******\n",
      "('43rd', 'CD')\n",
      "*******\n",
      "('president', 'NN')\n",
      "*******\n",
      "('United', 'NNP')\n",
      "*******\n",
      "('States', 'NNPS')\n",
      "*******\n",
      "('2001', 'CD')\n",
      "*******\n",
      "('2009', 'CD')\n",
      "*******\n",
      "('.', '.')\n",
      "*******\n",
      "('He', 'PRP')\n",
      "*******\n",
      "(gram previously/RB)\n",
      "*******\n",
      "('served', 'VBD')\n",
      "*******\n",
      "('46th', 'CD')\n",
      "*******\n",
      "('governor', 'NN')\n",
      "*******\n",
      "('Texas', 'NNP')\n",
      "*******\n",
      "('1995', 'CD')\n",
      "*******\n",
      "('2000', 'CD')\n",
      "*******\n",
      "('.', '.')\n",
      "*******\n",
      "('Bush', 'NNP')\n",
      "*******\n",
      "('born', 'VBD')\n",
      "*******\n",
      "('New', 'NNP')\n",
      "*******\n",
      "('Haven', 'NNP')\n",
      "*******\n",
      "(',', ',')\n",
      "*******\n",
      "('Connecticut', 'NNP')\n",
      "*******\n",
      "(',', ',')\n",
      "*******\n",
      "('grew', 'VBD')\n",
      "*******\n",
      "('Texas', 'NNP')\n",
      "*******\n",
      "('.', '.')\n",
      "*******\n",
      "('After', 'IN')\n",
      "*******\n",
      "('graduating', 'VBG')\n",
      "*******\n",
      "('Yale', 'NNP')\n",
      "*******\n",
      "('University', 'NNP')\n",
      "*******\n",
      "('1968', 'CD')\n",
      "*******\n",
      "('Harvard', 'NNP')\n",
      "*******\n",
      "('Business', 'NNP')\n",
      "*******\n",
      "('School', 'NNP')\n",
      "*******\n",
      "('1975', 'CD')\n",
      "*******\n",
      "(',', ',')\n",
      "*******\n",
      "('worked', 'VBD')\n",
      "*******\n",
      "('oil', 'NN')\n",
      "*******\n",
      "('industry', 'NN')\n",
      "*******\n",
      "('.', '.')\n",
      "*******\n",
      "('Bush', 'NNP')\n",
      "*******\n",
      "('married', 'VBD')\n",
      "*******\n",
      "('Laura', 'NNP')\n",
      "*******\n",
      "('Welch', 'NNP')\n",
      "*******\n",
      "('1977', 'CD')\n",
      "*******\n",
      "(gram unsuccessfully/RB)\n",
      "*******\n",
      "('ran', 'VBD')\n",
      "*******\n",
      "('U.S.', 'NNP')\n",
      "*******\n",
      "('House', 'NNP')\n",
      "*******\n",
      "('Representatives', 'VBZ')\n",
      "*******\n",
      "(gram shortly/RB thereafter/RB)\n",
      "*******\n",
      "('.', '.')\n",
      "*******\n",
      "('He', 'PRP')\n",
      "*******\n",
      "(gram later/RB)\n",
      "*******\n",
      "('co-owned', 'VBD')\n",
      "*******\n",
      "('Texas', 'NNP')\n",
      "*******\n",
      "('Rangers', 'NNPS')\n",
      "*******\n",
      "('baseball', 'NN')\n",
      "*******\n",
      "('team', 'NN')\n",
      "*******\n",
      "('defeating', 'VBG')\n",
      "*******\n",
      "('Ann', 'NNP')\n",
      "*******\n",
      "('Richards', 'NNP')\n",
      "*******\n",
      "('1994', 'CD')\n",
      "*******\n",
      "('Texas', 'NNP')\n",
      "*******\n",
      "('gubernatorial', 'JJ')\n",
      "*******\n",
      "('election', 'NN')\n",
      "*******\n",
      "('.', '.')\n",
      "*******\n",
      "('Bush', 'NNP')\n",
      "*******\n",
      "('elected', 'VBD')\n",
      "*******\n",
      "('President', 'NNP')\n",
      "*******\n",
      "('United', 'NNP')\n",
      "*******\n",
      "('States', 'NNPS')\n",
      "*******\n",
      "('2000', 'CD')\n",
      "*******\n",
      "('defeated', 'VBD')\n",
      "*******\n",
      "('Democratic', 'JJ')\n",
      "*******\n",
      "('incumbent', 'JJ')\n",
      "*******\n",
      "('Vice', 'NNP')\n",
      "*******\n",
      "('President', 'NNP')\n",
      "*******\n",
      "('Al', 'NNP')\n",
      "*******\n",
      "('Gore', 'NNP')\n",
      "*******\n",
      "('close', 'JJ')\n",
      "*******\n",
      "('controversial', 'JJ')\n",
      "*******\n",
      "('win', 'NN')\n",
      "*******\n",
      "('involved', 'VBN')\n",
      "*******\n",
      "('stopped', 'VBD')\n",
      "*******\n",
      "('recount', 'VB')\n",
      "*******\n",
      "('Florida', 'NNP')\n",
      "*******\n",
      "('.', '.')\n",
      "*******\n",
      "('He', 'PRP')\n",
      "*******\n",
      "('became', 'VBD')\n",
      "*******\n",
      "('fourth', 'JJ')\n",
      "*******\n",
      "('person', 'NN')\n",
      "*******\n",
      "('elected', 'VBD')\n",
      "*******\n",
      "('president', 'NN')\n",
      "*******\n",
      "('receiving', 'VBG')\n",
      "*******\n",
      "('fewer', 'JJR')\n",
      "*******\n",
      "('popular', 'JJ')\n",
      "*******\n",
      "('votes', 'NNS')\n",
      "*******\n",
      "('opponent', 'NN')\n",
      "*******\n",
      "('.', '.')\n",
      "*******\n",
      "('Bush', 'NNP')\n",
      "*******\n",
      "('member', 'NN')\n",
      "*******\n",
      "('prominent', 'JJ')\n",
      "*******\n",
      "('political', 'JJ')\n",
      "*******\n",
      "('family', 'NN')\n",
      "*******\n",
      "('eldest', 'JJS')\n",
      "*******\n",
      "('son', 'NN')\n",
      "*******\n",
      "('Barbara', 'NNP')\n",
      "*******\n",
      "('George', 'NNP')\n",
      "*******\n",
      "('H.', 'NNP')\n",
      "*******\n",
      "('W.', 'NNP')\n",
      "*******\n",
      "('Bush', 'NNP')\n",
      "*******\n",
      "(',', ',')\n",
      "*******\n",
      "('41st', 'CD')\n",
      "*******\n",
      "('president', 'NN')\n",
      "*******\n",
      "('United', 'NNP')\n",
      "*******\n",
      "('States', 'NNPS')\n",
      "*******\n",
      "('.', '.')\n",
      "*******\n",
      "('He', 'PRP')\n",
      "*******\n",
      "('second', 'JJ')\n",
      "*******\n",
      "('president', 'NN')\n",
      "*******\n",
      "('assume', 'IN')\n",
      "*******\n",
      "('nation', 'NN')\n",
      "*******\n",
      "(\"'s\", 'POS')\n",
      "*******\n",
      "('highest', 'JJS')\n",
      "*******\n",
      "('office', 'NN')\n",
      "*******\n",
      "('father', 'NN')\n",
      "*******\n",
      "(',', ',')\n",
      "*******\n",
      "('following', 'VBG')\n",
      "*******\n",
      "('footsteps', 'NNS')\n",
      "*******\n",
      "('John', 'NNP')\n",
      "*******\n",
      "('Adams', 'NNP')\n",
      "*******\n",
      "('son', 'NN')\n",
      "*******\n",
      "(',', ',')\n",
      "*******\n",
      "('John', 'NNP')\n",
      "*******\n",
      "('Quincy', 'NNP')\n",
      "*******\n"
     ]
    }
   ],
   "source": [
    "for i in range(0,150,1):\n",
    "    print(chunk[i])\n",
    "    print('*******')"
   ]
  },
  {
   "cell_type": "code",
   "execution_count": null,
   "metadata": {},
   "outputs": [],
   "source": []
  }
 ],
 "metadata": {
  "kernelspec": {
   "display_name": "Python 3",
   "language": "python",
   "name": "python3"
  },
  "language_info": {
   "codemirror_mode": {
    "name": "ipython",
    "version": 3
   },
   "file_extension": ".py",
   "mimetype": "text/x-python",
   "name": "python",
   "nbconvert_exporter": "python",
   "pygments_lexer": "ipython3",
   "version": "3.7.3"
  }
 },
 "nbformat": 4,
 "nbformat_minor": 2
}
